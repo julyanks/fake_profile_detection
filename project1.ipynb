{
  "cells": [
    {
      "cell_type": "markdown",
      "metadata": {
        "id": "view-in-github",
        "colab_type": "text"
      },
      "source": [
        "<a href=\"https://colab.research.google.com/github/julyanks/fake_profile_detection/blob/main/project1.ipynb\" target=\"_parent\"><img src=\"https://colab.research.google.com/assets/colab-badge.svg\" alt=\"Open In Colab\"/></a>"
      ]
    },
    {
      "cell_type": "markdown",
      "metadata": {
        "id": "IeZsWO7pNGhr"
      },
      "source": [
        "  **Spammer Detection and fake user authentication by identifying fake profiles(using dataset of twitter)**"
      ]
    },
    {
      "cell_type": "code",
      "execution_count": 1,
      "metadata": {
        "id": "KP_XIbxCZaD6"
      },
      "outputs": [],
      "source": [
        "import sklearn\n",
        "import numpy as np\n",
        "import pandas as pd\n",
        "import matplotlib.pyplot as plt\n",
        "%matplotlib inline"
      ]
    },
    {
      "cell_type": "code",
      "execution_count": 2,
      "metadata": {
        "id": "1xAX8oQXLBS8"
      },
      "outputs": [],
      "source": [
        "GU = pd.read_csv('/content/drive/MyDrive/users.csv')\n",
        "FU = pd.read_csv('/content/drive/MyDrive/fusers.csv')"
      ]
    },
    {
      "cell_type": "code",
      "execution_count": 3,
      "metadata": {
        "id": "yZZ1eykKRx-A",
        "colab": {
          "base_uri": "https://localhost:8080/"
        },
        "outputId": "9512e3e8-af31-4319-d7dd-77fe25ba8d67"
      },
      "outputs": [
        {
          "output_type": "stream",
          "name": "stdout",
          "text": [
            "                  name  default_profile\n",
            "0     Davide Dellacasa              0.0\n",
            "1       Simone Economo              0.0\n",
            "2               tacone              0.0\n",
            "3             alesaura              0.0\n",
            "4               Angelo              0.0\n",
            "...                ...              ...\n",
            "1476  Frilaif Official              1.0\n",
            "1477   ♔♥HeartsQueen♥♔              0.0\n",
            "1478     angelagervasi              1.0\n",
            "1479          Midnight              0.0\n",
            "1480               ʸᵒᵘ              0.0\n",
            "\n",
            "[1481 rows x 2 columns]\n",
            "                    name  default_profile\n",
            "0           pirfectmoses              0.0\n",
            "1               SAK Nair              1.0\n",
            "2                 Deepak              0.0\n",
            "3        Marcos Vinicius              0.0\n",
            "4     Shri Kant Kanaujia              1.0\n",
            "...                  ...              ...\n",
            "1332         Verda Marks              1.0\n",
            "1333     Danial Campbell              1.0\n",
            "1334        Maudie Meyer              1.0\n",
            "1335     Harriett Harvey              1.0\n",
            "1336     Gillian Wheeler              1.0\n",
            "\n",
            "[1337 rows x 2 columns]\n"
          ]
        }
      ],
      "source": [
        "GU=GU.fillna(0)\n",
        "FU=FU.fillna(0)\n",
        "print(GU[['name','default_profile']])\n",
        "print(FU[['name','default_profile']])"
      ]
    },
    {
      "cell_type": "code",
      "execution_count": 5,
      "metadata": {
        "colab": {
          "base_uri": "https://localhost:8080/"
        },
        "id": "a_MLqqd1oUCh",
        "outputId": "43874032-6bde-4c1e-ea7d-1f021feee24e"
      },
      "outputs": [
        {
          "output_type": "stream",
          "name": "stdout",
          "text": [
            "Reading dataset\n",
            "Index(['id', 'name', 'screen_name', 'statuses_count', 'followers_count',\n",
            "       'friends_count', 'favourites_count', 'listed_count', 'created_at',\n",
            "       'url', 'lang', 'time_zone', 'location', 'default_profile',\n",
            "       'default_profile_image', 'geo_enabled', 'profile_image_url',\n",
            "       'profile_banner_url', 'profile_use_background_image',\n",
            "       'profile_background_image_url_https', 'profile_text_color',\n",
            "       'profile_image_url_https', 'profile_sidebar_border_color',\n",
            "       'profile_background_tile', 'profile_sidebar_fill_color',\n",
            "       'profile_background_image_url', 'profile_background_color',\n",
            "       'profile_link_color', 'utc_offset', 'protected', 'verified',\n",
            "       'description', 'updated', 'dataset'],\n",
            "      dtype='object')\n",
            "                 id  statuses_count  followers_count  friends_count  \\\n",
            "count  1.481000e+03     1481.000000      1481.000000    1481.000000   \n",
            "mean   4.000432e+08     3140.782579       690.922350     403.128292   \n",
            "std    2.961304e+08     6391.957957     11058.508986     610.572368   \n",
            "min    3.610511e+06        3.000000         0.000000       0.000000   \n",
            "25%    1.572905e+08      315.000000        45.000000     115.000000   \n",
            "50%    3.822478e+08      992.000000       102.000000     226.000000   \n",
            "75%    5.229255e+08     3029.000000       259.000000     437.000000   \n",
            "max    1.219743e+09    79876.000000    408372.000000   12773.000000   \n",
            "\n",
            "       favourites_count  listed_count  default_profile  default_profile_image  \\\n",
            "count       1481.000000   1481.000000      1481.000000            1481.000000   \n",
            "mean         439.611749      5.360567         0.268062               0.002701   \n",
            "std         1970.556008     32.183232         0.443100               0.051917   \n",
            "min            0.000000      0.000000         0.000000               0.000000   \n",
            "25%            4.000000      0.000000         0.000000               0.000000   \n",
            "50%           29.000000      1.000000         0.000000               0.000000   \n",
            "75%          176.000000      2.000000         1.000000               0.000000   \n",
            "max        44349.000000    744.000000         1.000000               1.000000   \n",
            "\n",
            "       geo_enabled  profile_use_background_image  profile_background_tile  \\\n",
            "count  1481.000000                   1481.000000              1481.000000   \n",
            "mean      0.485483                      0.960837                 0.328157   \n",
            "std       0.499958                      0.194048                 0.469701   \n",
            "min       0.000000                      0.000000                 0.000000   \n",
            "25%       0.000000                      1.000000                 0.000000   \n",
            "50%       0.000000                      1.000000                 0.000000   \n",
            "75%       1.000000                      1.000000                 1.000000   \n",
            "max       1.000000                      1.000000                 1.000000   \n",
            "\n",
            "         utc_offset  protected  verified  \n",
            "count   1481.000000     1481.0    1481.0  \n",
            "mean    1102.363268        0.0       0.0  \n",
            "std     6648.210577        0.0       0.0  \n",
            "min   -39600.000000        0.0       0.0  \n",
            "25%        0.000000        0.0       0.0  \n",
            "50%     3600.000000        0.0       0.0  \n",
            "75%     3600.000000        0.0       0.0  \n",
            "max    36000.000000        0.0       0.0  \n",
            "                 id  statuses_count  followers_count  friends_count  \\\n",
            "count  1.337000e+03     1337.000000      1337.000000    1337.000000   \n",
            "mean   6.897381e+08       45.442034        16.842184     386.761406   \n",
            "std    2.135086e+08       97.765536         8.011299     210.139672   \n",
            "min    3.738459e+07        0.000000         0.000000       0.000000   \n",
            "25%    6.163001e+08       26.000000        13.000000     278.000000   \n",
            "50%    6.170879e+08       36.000000        18.000000     344.000000   \n",
            "75%    6.192317e+08       53.000000        22.000000     538.000000   \n",
            "max    1.391998e+09     1576.000000        73.000000    1998.000000   \n",
            "\n",
            "       favourites_count  listed_count     url  default_profile  \\\n",
            "count       1337.000000   1337.000000  1337.0      1337.000000   \n",
            "mean           7.383695      0.002992     0.0         0.995512   \n",
            "std           89.155940      0.054636     0.0         0.066865   \n",
            "min            0.000000      0.000000     0.0         0.000000   \n",
            "25%            0.000000      0.000000     0.0         1.000000   \n",
            "50%            0.000000      0.000000     0.0         1.000000   \n",
            "75%            0.000000      0.000000     0.0         1.000000   \n",
            "max         1402.000000      1.000000     0.0         1.000000   \n",
            "\n",
            "       default_profile_image  geo_enabled  profile_use_background_image  \\\n",
            "count            1337.000000  1337.000000                        1337.0   \n",
            "mean                0.002992     0.001496                           1.0   \n",
            "std                 0.054636     0.038662                           0.0   \n",
            "min                 0.000000     0.000000                           1.0   \n",
            "25%                 0.000000     0.000000                           1.0   \n",
            "50%                 0.000000     0.000000                           1.0   \n",
            "75%                 0.000000     0.000000                           1.0   \n",
            "max                 1.000000     1.000000                           1.0   \n",
            "\n",
            "       profile_background_tile    utc_offset  protected  verified  \n",
            "count              1337.000000   1337.000000     1337.0    1337.0  \n",
            "mean                  0.002244    -39.042633        0.0       0.0  \n",
            "std                   0.047334   1998.173188        0.0       0.0  \n",
            "min                   0.000000 -39600.000000        0.0       0.0  \n",
            "25%                   0.000000      0.000000        0.0       0.0  \n",
            "50%                   0.000000      0.000000        0.0       0.0  \n",
            "75%                   0.000000      0.000000        0.0       0.0  \n",
            "max                   1.000000  19800.000000        0.0       0.0  \n"
          ]
        }
      ],
      "source": [
        "print(\"Reading dataset\")\n",
        "print(FU.columns)                  \n",
        "print(GU.describe())               \n",
        "print(FU.describe())               \n",
        "x=pd.concat([GU,FU]) \n",
        "y=len(FU)*[0] + len(GU)*[1]\n",
        "df=x\n"
      ]
    },
    {
      "cell_type": "code",
      "source": [
        "import seaborn as sns\n",
        "sns.countplot(x=\"default_profile\",data=df)\n",
        "plt.show()"
      ],
      "metadata": {
        "colab": {
          "base_uri": "https://localhost:8080/",
          "height": 280
        },
        "id": "6FKu8YpZmJXp",
        "outputId": "faf66a54-ca9d-4036-bfe6-353c526aca91"
      },
      "execution_count": 6,
      "outputs": [
        {
          "output_type": "display_data",
          "data": {
            "text/plain": [
              "<Figure size 432x288 with 1 Axes>"
            ],
            "image/png": "[encoded data removed]"
          },
          "metadata": {
            "needs_background": "light"
          }
        }
      ]
    },
    {
      "cell_type": "code",
      "execution_count": 7,
      "metadata": {
        "colab": {
          "base_uri": "https://localhost:8080/"
        },
        "id": "k9DkgaXi1qpt",
        "outputId": "55161023-6410-4a11-bec1-4e1b10c6be2b"
      },
      "outputs": [
        {
          "output_type": "stream",
          "name": "stdout",
          "text": [
            "Index(['statuses_count', 'followers_count', 'friends_count',\n",
            "       'favourites_count', 'listed_count'],\n",
            "      dtype='object')\n",
            "       statuses_count  followers_count  friends_count  favourites_count  \\\n",
            "count     2818.000000      2818.000000    2818.000000       2818.000000   \n",
            "mean      1672.198368       371.105039     395.363023        234.541164   \n",
            "std       4884.669157      8022.631339     465.694322       1445.847248   \n",
            "min          0.000000         0.000000       0.000000          0.000000   \n",
            "25%         35.000000        17.000000     168.000000          0.000000   \n",
            "50%         77.000000        26.000000     306.000000          0.000000   \n",
            "75%       1087.750000       111.000000     519.000000         37.000000   \n",
            "max      79876.000000    408372.000000   12773.000000      44349.000000   \n",
            "\n",
            "       listed_count  \n",
            "count   2818.000000  \n",
            "mean       2.818666  \n",
            "std       23.480430  \n",
            "min        0.000000  \n",
            "25%        0.000000  \n",
            "50%        0.000000  \n",
            "75%        1.000000  \n",
            "max      744.000000  \n"
          ]
        }
      ],
      "source": [
        "extract = ['statuses_count','followers_count','friends_count','favourites_count','listed_count']\n",
        "x=x.loc[:,extract]                \n",
        "print(x.columns)\n",
        "print(x.describe())"
      ]
    },
    {
      "cell_type": "code",
      "execution_count": 8,
      "metadata": {
        "id": "McHJuEwp_QKK",
        "colab": {
          "base_uri": "https://localhost:8080/"
        },
        "outputId": "a6edc455-5bd8-47ac-d8d6-b95f415c2971"
      },
      "outputs": [
        {
          "output_type": "stream",
          "name": "stdout",
          "text": [
            " Splitting the dataset in TRAINING and TESTING\n",
            "(2254, 5)\n",
            "(564, 5)\n",
            "(2254,)\n",
            "(564,)\n"
          ]
        }
      ],
      "source": [
        "from sklearn.model_selection import  train_test_split\n",
        "print(\" Splitting the dataset in TRAINING and TESTING\")\n",
        "x1, x2, y1, y2 = train_test_split(x ,y ,test_size=0.20,random_state=44)\n",
        "print(x1.shape)\n",
        "print(x2.shape)\n",
        "y1=np.asarray(y1)\n",
        "y2=np.asarray(y2)\n",
        "print(y1.shape)\n",
        "print(y2.shape)\n",
        "   "
      ]
    },
    {
      "cell_type": "code",
      "execution_count": 9,
      "metadata": {
        "colab": {
          "base_uri": "https://localhost:8080/"
        },
        "id": "6nDx-YxDv278",
        "outputId": "ecdc5c50-5687-4659-bb18-3f0d5cacfd2d"
      },
      "outputs": [
        {
          "output_type": "stream",
          "name": "stdout",
          "text": [
            "Training accuracy :  0.8123336291038155\n",
            "\n",
            " Testing accuracy :  0.8085106382978723\n"
          ]
        }
      ],
      "source": [
        "from sklearn.linear_model import LogisticRegression\n",
        "classifier= LogisticRegression(random_state=30)  \n",
        "classifier.fit(x1, y1) \n",
        "pred=classifier.predict(x2)\n",
        "print(\"Training accuracy : \",classifier.score(x1 , y1))\n",
        "print(\"\\n Testing accuracy : \",classifier.score(x2 , y2)) "
      ]
    },
    {
      "cell_type": "code",
      "source": [
        "from sklearn.metrics import accuracy_score\n",
        "accuracy = accuracy_score(y2, pred)\n",
        "c=accuracy\n",
        "print(\"Accuracy: %.2f%%\" % (accuracy * 100.0))"
      ],
      "metadata": {
        "colab": {
          "base_uri": "https://localhost:8080/"
        },
        "id": "QUg6TBkT_rbC",
        "outputId": "a75501d4-d09b-421e-f684-e3c0e75c372c"
      },
      "execution_count": 10,
      "outputs": [
        {
          "output_type": "stream",
          "name": "stdout",
          "text": [
            "Accuracy: 80.85%\n"
          ]
        }
      ]
    },
    {
      "cell_type": "code",
      "execution_count": 11,
      "metadata": {
        "id": "TtVv0Df54avR",
        "colab": {
          "base_uri": "https://localhost:8080/"
        },
        "outputId": "0f7f976f-0da1-4868-ec29-1fb2e6a860ee"
      },
      "outputs": [
        {
          "output_type": "execute_result",
          "data": {
            "text/plain": [
              "(564, 1)"
            ]
          },
          "metadata": {},
          "execution_count": 11
        }
      ],
      "source": [
        "pred=pd.DataFrame(pred)\n",
        "pred.shape"
      ]
    },
    {
      "cell_type": "code",
      "execution_count": 12,
      "metadata": {
        "id": "PuTkaNwDGQ03"
      },
      "outputs": [],
      "source": [
        "import pickle"
      ]
    },
    {
      "cell_type": "code",
      "execution_count": 13,
      "metadata": {
        "id": "4TnOzSWzGXxd"
      },
      "outputs": [],
      "source": [
        "pickle.dump(classifier, open('project1.pkl', 'wb'))"
      ]
    },
    {
      "cell_type": "code",
      "execution_count": 14,
      "metadata": {
        "id": "Csc7Z9L8HIl4"
      },
      "outputs": [],
      "source": [
        "project1 = pickle.load(open('project1.pkl', 'rb'))"
      ]
    },
    {
      "cell_type": "code",
      "execution_count": 15,
      "metadata": {
        "colab": {
          "base_uri": "https://localhost:8080/"
        },
        "id": "W_UxPC2HBhow",
        "outputId": "46aaf418-5660-4e0f-9d22-0c7506ee322d"
      },
      "outputs": [
        {
          "output_type": "stream",
          "name": "stdout",
          "text": [
            "Profile is REAL\n"
          ]
        },
        {
          "output_type": "stream",
          "name": "stderr",
          "text": [
            "/usr/local/lib/python3.7/dist-packages/sklearn/base.py:451: UserWarning: X does not have valid feature names, but LogisticRegression was fitted with feature names\n",
            "  \"X does not have valid feature names, but\"\n"
          ]
        }
      ],
      "source": [
        "result=project1.predict([[120,500,250,0,0]])\n",
        "if(result==[0]):\n",
        "  print(\"Profile is REAL\")\n",
        "else:\n",
        "  print(\"Profile is FAKE\")"
      ]
    }
  ],
  "metadata": {
    "colab": {
      "collapsed_sections": [],
      "name": "project1.ipynb",
      "provenance": [],
      "mount_file_id": "1WcDPrI5OdW-Hn--8Rim5VfEPw3TpNj9O",
      "authorship_tag": "ABX9TyMApjy4J9gKxoJ4aPDWRSrV",
      "include_colab_link": true
    },
    "kernelspec": {
      "display_name": "Python 3",
      "name": "python3"
    },
    "language_info": {
      "name": "python"
    }
  },
  "nbformat": 4,
  "nbformat_minor": 0
}